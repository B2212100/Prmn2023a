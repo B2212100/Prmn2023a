{
  "nbformat": 4,
  "nbformat_minor": 0,
  "metadata": {
    "colab": {
      "provenance": [],
      "collapsed_sections": [
        "tdwpKKCsDdGo",
        "9XYXVf9BMV9x"
      ],
      "authorship_tag": "ABX9TyP187PxKDqWRIBK6qmk+pb2",
      "include_colab_link": true
    },
    "kernelspec": {
      "name": "python3",
      "display_name": "Python 3"
    },
    "language_info": {
      "name": "python"
    }
  },
  "cells": [
    {
      "cell_type": "markdown",
      "metadata": {
        "id": "view-in-github",
        "colab_type": "text"
      },
      "source": [
        "<a href=\"https://colab.research.google.com/github/B2212100/Prmn2023a/blob/main/my_answer/%E7%AC%AC0%E7%AB%A0.ipynb\" target=\"_parent\"><img src=\"https://colab.research.google.com/assets/colab-badge.svg\" alt=\"Open In Colab\"/></a>"
      ]
    },
    {
      "cell_type": "markdown",
      "source": [
        "## **第0章**"
      ],
      "metadata": {
        "id": "YBimfm_VBbQT"
      }
    },
    {
      "cell_type": "markdown",
      "source": [
        "# **心がけたいこと** : コメントを残そう\n",
        "\n",
        "プログラミングにおいて、どれだけ複雑なソースコードを記述できたかよりも、何を行っているのか言語化することが重要です。\n",
        "\n",
        "特にPythonでは、複雑な処理がほんの数行でできてしまいます。(パッケージやライブラリの利用 : NumPy、Pandasなど)\n",
        "\n",
        "・まず、これから何をするのか\n",
        "\n",
        "・どういった手順で行うのか\n",
        "\n",
        "これらを最初に書いてみましょう。"
      ],
      "metadata": {
        "id": "tdwpKKCsDdGo"
      }
    },
    {
      "cell_type": "code",
      "source": [
        "# \"#\"と書くとソースコードと認識されないため、コメント(自由なメモ)を残すことができる\n",
        "# Ctrl(command) + / で、複数行をまとめてコメントにもできる"
      ],
      "metadata": {
        "id": "ydoYBGexEbEA"
      },
      "execution_count": null,
      "outputs": []
    },
    {
      "cell_type": "markdown",
      "source": [
        "例題として、データサイエンス入門の第2回課題 (成績処理シミュレーション)の一部をやってみます。"
      ],
      "metadata": {
        "id": "SOOyTy8vF_Fj"
      }
    },
    {
      "cell_type": "code",
      "source": [
        "# 成績処理シミュレーション(英語、数学、国語)\n",
        "\n",
        "# 生徒の人数を設定\n",
        "n = 10\n",
        "\n",
        "scores = [] # 得点を格納したいリスト(得点生成前なので空)\n",
        "\n",
        "import random # 乱数を生成するための標準ライブラリをインポート\n",
        "\n",
        "# 生徒の人数が何人でもいいように、繰り返し処理を用いる\n",
        "for i in range(n):\n",
        "  english = random.randint(0, 20) * 5 \n",
        "  math = random.randint(0, 20) * 5\n",
        "  japanese = random.randint(0, 20) * 5  # 得点を0～100点でランダムに生成(5点刻み)\n",
        "  scores.append([english, math, japanese])\n",
        "\n",
        "print(scores) # 実行結果では、生徒ごとに[]で区切られる。[[english, math, japanese], ...]"
      ],
      "metadata": {
        "id": "qA68YODBGLh1"
      },
      "execution_count": null,
      "outputs": []
    },
    {
      "cell_type": "markdown",
      "source": [
        "かなりくどくなってしまいましたが、どうでしょうか。\n",
        "\n",
        "データサイエンス入門のようなプログラミング講義では、事前学習の形をとっていると思います。いざグループワークで課題をチェックする際も、自分でコメントを取っていれば説明がしやすく、相手からもソースコードを目で追いやすいでしょう。"
      ],
      "metadata": {
        "id": "_vNIZvS4hwYz"
      }
    },
    {
      "cell_type": "markdown",
      "source": [
        "### プロジェクトメンバーのチーム活動に移る時には、一つのシステムを数人で試行錯誤する、ということがあります。\n",
        "\n",
        "(チームによって様々ですが、選択までには目星をつけておきましょう。3年生への相談もいつでもお待ちしています！ 今まさに取り組んでいるので、どんなことをやっているのか具体的に答えられます)\n",
        "\n",
        "つまり、コメントによって私はここまで進めました！ というのを他のメンバーにもわかりやすく伝えることができるのです。自身の理解に加え、相手 (講義課題では先生方)からも「この人は理解しているな」と見られるはずです。"
      ],
      "metadata": {
        "id": "jKc4OfgTUxvz"
      }
    },
    {
      "cell_type": "markdown",
      "source": [
        "### 以下は、ChatGPTによる例です。\n",
        "\n",
        "実際の講義課題などでは、生成されたソースコードをそのままコピー&ペーストすることはやめましょう。現に、得点を5点刻みにすることが抜けてしまっています。\n",
        "\n",
        "実行後のエラーをどう直したらいいのかわからない時に利用するなど、学修の放棄を避けた使い方をしましょう。"
      ],
      "metadata": {
        "id": "9XYXVf9BMV9x"
      }
    },
    {
      "cell_type": "code",
      "source": [
        "import random\n",
        "\n",
        "n = 10  # 生徒の数を10人に設定\n",
        "\n",
        "# 英語、数学、国語の得点を生成して配列に格納\n",
        "scores = []\n",
        "for i in range(n):\n",
        "    english = random.randint(0, 100)\n",
        "    math = random.randint(0, 100)\n",
        "    japanese = random.randint(0, 100)\n",
        "    scores.append([english, math, japanese])\n",
        "\n",
        "# 英語、数学、国語の平均点、最高点、最低点を計算\n",
        "averages = []\n",
        "max_scores = []\n",
        "min_scores = []\n",
        "for i in range(3):\n",
        "    subject_scores = [s[i] for s in scores]\n",
        "    averages.append(sum(subject_scores) / n)\n",
        "    max_scores.append(max(subject_scores))\n",
        "    min_scores.append(min(subject_scores))\n",
        "\n",
        "# 結果を表示\n",
        "print(\"英語の平均点: {:.1f}\".format(averages[0]))\n",
        "print(\"英語の最高点: {}\".format(max_scores[0]))\n",
        "print(\"英語の最低点: {}\".format(min_scores[0]))\n",
        "print(\"数学の平均点: {:.1f}\".format(averages[1]))\n",
        "print(\"数学の最高点: {}\".format(max_scores[1]))\n",
        "print(\"数学の最低点: {}\".format(min_scores[1]))\n",
        "print(\"国語の平均点: {:.1f}\".format(averages[2]))\n",
        "print(\"国語の最高点: {}\".format(max_scores[2]))\n",
        "print(\"国語の最低点: {}\".format(min_scores[2]))"
      ],
      "metadata": {
        "id": "Co2Wr6uWMHXY"
      },
      "execution_count": null,
      "outputs": []
    }
  ]
}